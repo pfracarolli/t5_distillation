{
 "cells": [
  {
   "cell_type": "markdown",
   "id": "164ef5b7",
   "metadata": {},
   "source": [
    "# T5 Distillation"
   ]
  },
  {
   "cell_type": "markdown",
   "id": "f47f9548",
   "metadata": {},
   "source": [
    "This notebook is an attempt to distill `t5-base` into `t5-small`. We fine-tune a total of 11 models, including a baseline `t5-small` (not distilled) for comparison. We also use a pre-trained `t5-base` as the teacher model. The dataset used in the experiments is the [Large Movie Review Dataset](http://ai.stanford.edu/~amaas/data/sentiment/)."
   ]
  },
  {
   "cell_type": "markdown",
   "id": "85f5339d",
   "metadata": {},
   "source": [
    "## Dependencies, datasets & dataloaders"
   ]
  },
  {
   "cell_type": "markdown",
   "id": "6d2d764f",
   "metadata": {},
   "source": [
    "First, we install the necessary dependencies:"
   ]
  },
  {
   "cell_type": "code",
   "execution_count": 144,
   "id": "f3340379",
   "metadata": {},
   "outputs": [],
   "source": [
    "!pip install transformers pytorch_lightning sentencepiece bs4 tqdm --quiet"
   ]
  },
  {
   "cell_type": "markdown",
   "id": "135952fb",
   "metadata": {},
   "source": [
    "Download of the dataset for fine-tuning later:"
   ]
  },
  {
   "cell_type": "code",
   "execution_count": 145,
   "id": "06e21907",
   "metadata": {},
   "outputs": [
    {
     "name": "stderr",
     "output_type": "stream",
     "text": [
      "Global seed set to 1234\n"
     ]
    }
   ],
   "source": [
    "import os\n",
    "import tqdm\n",
    "import numpy as np\n",
    "import pytorch_lightning as pl\n",
    "\n",
    "pl.seed_everything(1234)\n",
    "\n",
    "if not os.path.exists('aclImdb_v1.tar.gz'):\n",
    "    !wget https://ai.stanford.edu/~amaas/data/sentiment/aclImdb_v1.tar.gz"
   ]
  },
  {
   "cell_type": "code",
   "execution_count": 146,
   "id": "45c180cf",
   "metadata": {},
   "outputs": [],
   "source": [
    "if not os.path.exists('./aclImdb'):\n",
    "    !tar xf ./aclImdb_v1.tar.gz"
   ]
  },
  {
   "cell_type": "markdown",
   "id": "b35c5115",
   "metadata": {},
   "source": [
    "Creation of a custom `Tokenizer` class for abstracting some operations/parameters:"
   ]
  },
  {
   "cell_type": "code",
   "execution_count": 147,
   "id": "0c9978ed",
   "metadata": {},
   "outputs": [
    {
     "name": "stdout",
     "output_type": "stream",
     "text": [
      "0\n"
     ]
    }
   ],
   "source": [
    "from transformers import AutoTokenizer\n",
    "\n",
    "class Tokenizer:\n",
    "    def __init__(self, model_name, truncation=512):\n",
    "        self.__tokenizer = AutoTokenizer.from_pretrained(model_name)\n",
    "        self.__truncation = truncation\n",
    "    \n",
    "    def encode(self, sentence):\n",
    "        return self.__tokenizer(\n",
    "            sentence,\n",
    "            truncation=True,\n",
    "            max_length=self.__truncation,\n",
    "            padding='max_length',\n",
    "            return_tensors='pt'\n",
    "        )\n",
    "    \n",
    "    def decode(self, word_ids, *args, **kwargs):\n",
    "        return self.__tokenizer.decode(word_ids, *args, **kwargs)\n",
    "    \n",
    "    def __call__(self, sentence):\n",
    "        return self.encode(sentence)\n",
    "    \n",
    "    @property\n",
    "    def pad_token_id(self):\n",
    "        return self.__tokenizer.pad_token_id\n",
    "    \n",
    "tokenizer = Tokenizer('t5-small')\n",
    "tokenized_output = tokenizer('this is a test')\n",
    "\n",
    "decoded_output = tokenizer.decode(\n",
    "    tokenized_output['input_ids'].squeeze(), \n",
    "    skip_special_tokens=True\n",
    ")\n",
    "\n",
    "assert tokenized_output['input_ids'].size(-1) == 512\n",
    "assert tokenized_output['attention_mask'].size(-1) == 512\n",
    "assert decoded_output == 'this is a test'\n",
    "\n",
    "print(tokenizer.pad_token_id)"
   ]
  },
  {
   "cell_type": "markdown",
   "id": "323ec474",
   "metadata": {},
   "source": [
    "Dataset class for loading the training/test examples from files: "
   ]
  },
  {
   "cell_type": "code",
   "execution_count": 148,
   "id": "a702aca7",
   "metadata": {},
   "outputs": [
    {
     "name": "stdout",
     "output_type": "stream",
     "text": [
      "Number of training examples: 25000\n",
      "Number of test examples: 25000\n"
     ]
    }
   ],
   "source": [
    "from torch.utils.data import Dataset\n",
    "from bs4 import BeautifulSoup\n",
    "\n",
    "def get_filenames_with_labels(path):\n",
    "    filenames_pos = [(f'{path}/pos/{filename}', 'positive') for filename in os.listdir(f'{path}/pos')]\n",
    "    filenames_neg = [(f'{path}/neg/{filename}', 'negative') for filename in os.listdir(f'{path}/neg')]\n",
    "    \n",
    "    return filenames_pos + filenames_neg\n",
    "\n",
    "class ImdbSentimentDataset(Dataset):\n",
    "    def __init__(self, path, tokenizer):\n",
    "        self.filenames = get_filenames_with_labels(path)\n",
    "        self.tokenizer = tokenizer\n",
    "\n",
    "    def __len__(self):\n",
    "        return len(self.filenames)\n",
    "    \n",
    "    def __getitem__(self, idx):\n",
    "        filename, label = self.filenames[idx]\n",
    "        \n",
    "        file = open(filename, 'r')\n",
    "        sentence = BeautifulSoup(file.read()).get_text()\n",
    "        file.close()\n",
    "        \n",
    "        tokenized_input = self.tokenizer(sentence)\n",
    "        tokenized_label = self.tokenizer(label)\n",
    "        \n",
    "        return (\n",
    "            tokenized_input['input_ids'].squeeze(),\n",
    "            tokenized_input['attention_mask'].squeeze(),\n",
    "            tokenized_label['input_ids'].squeeze(),\n",
    "            tokenized_label['attention_mask'].squeeze()\n",
    "        )\n",
    "    \n",
    "train_ds = ImdbSentimentDataset('./aclImdb/train', tokenizer)\n",
    "test_ds = ImdbSentimentDataset('./aclImdb/test', tokenizer)\n",
    "\n",
    "print('Number of training examples:', len(train_ds))\n",
    "print('Number of test examples:', len(test_ds))\n",
    "\n",
    "sample_from_train = train_ds[0] \n",
    "\n",
    "assert sample_from_train[0].size(-1) == 512\n",
    "assert sample_from_train[1].size(-1) == 512\n",
    "assert sample_from_train[2].size(-1) == 512\n",
    "assert sample_from_train[3].size(-1) == 512"
   ]
  },
  {
   "cell_type": "code",
   "execution_count": 149,
   "id": "065b060c",
   "metadata": {},
   "outputs": [],
   "source": [
    "from torch.utils.data import DataLoader\n",
    "\n",
    "batch_size = 1\n",
    "\n",
    "train_dl = DataLoader(train_ds, batch_size=batch_size, shuffle=True, num_workers=8)\n",
    "test_dl = DataLoader(test_ds, batch_size=1, shuffle=False, num_workers=8)"
   ]
  },
  {
   "cell_type": "markdown",
   "id": "4c6a53ce",
   "metadata": {},
   "source": [
    "## Model definition & baseline fine-tuning "
   ]
  },
  {
   "cell_type": "markdown",
   "id": "92347ca4",
   "metadata": {},
   "source": [
    "This is the `pytorch_lightning` compatible model that we'll be using for training the baseline"
   ]
  },
  {
   "cell_type": "code",
   "execution_count": 150,
   "id": "38f173b5",
   "metadata": {},
   "outputs": [],
   "source": [
    "import torch\n",
    "\n",
    "from torch.optim import AdamW\n",
    "from transformers import T5ForConditionalGeneration\n",
    "\n",
    "class LightningT5(pl.LightningModule):\n",
    "    def __init__(self, model_name, tokenizer):\n",
    "        super().__init__()\n",
    "        \n",
    "        self.load_model(model_name)\n",
    "        self.tokenizer = tokenizer\n",
    "        \n",
    "    def load_model(self, model_name):\n",
    "        self.t5 = T5ForConditionalGeneration.from_pretrained(model_name)\n",
    "        \n",
    "    def forward(self, x):\n",
    "        return self.t5.generate(x)\n",
    "    \n",
    "    def configure_optimizers(self):\n",
    "        return AdamW(self.t5.parameters(), lr=1e-5)\n",
    "    \n",
    "    def _step(self, batch):\n",
    "        input_ids, attention_mask, labels, decoder_attention_mask = batch\n",
    "        labels[labels[:] == self.tokenizer.pad_token_id] = -100\n",
    "        \n",
    "        return self.t5(\n",
    "            input_ids=input_ids,\n",
    "            attention_mask=attention_mask,\n",
    "            labels=labels,\n",
    "            decoder_attention_mask=decoder_attention_mask\n",
    "        ).loss\n",
    "    \n",
    "    def training_step(self, batch, idx):\n",
    "        loss = self._step(batch)\n",
    "        return loss\n",
    "    \n",
    "    def save_pretrained(self, path):\n",
    "        self.t5.save_pretrained(path)\n",
    "    \n",
    "    validation_step = training_step\n",
    "    test_step = training_step"
   ]
  },
  {
   "cell_type": "markdown",
   "id": "0dbab6d5",
   "metadata": {},
   "source": [
    "Here we define our own `Trainer` class, which will call `pytorch_lightning`'s `Trainer` and save the trained model in a file. We also go ahead anf fine tune the baseline `t5-small` model."
   ]
  },
  {
   "cell_type": "code",
   "execution_count": 151,
   "id": "b7b877a2",
   "metadata": {},
   "outputs": [],
   "source": [
    "import gc\n",
    "\n",
    "class Trainer:\n",
    "    def __init__(self, model, max_epochs, filename):\n",
    "        self.model = model\n",
    "        self.max_epochs = max_epochs\n",
    "        self.filename = filename\n",
    "        \n",
    "    def train(self, train_dl, max_steps=None):\n",
    "        gc.collect()\n",
    "        \n",
    "        model = self.model\n",
    "        \n",
    "        trainer = pl.Trainer(\n",
    "            gpus=1,\n",
    "            max_epochs=self.max_epochs,\n",
    "            max_steps=max_steps\n",
    "        )\n",
    "        \n",
    "        trainer.fit(model, train_dl)\n",
    "        model.save_pretrained(self.filename)\n",
    "        \n",
    "        return model\n",
    "    \n",
    "    def train_or_load_pretrained(self, train_dl, force=False, **kwargs):\n",
    "        if os.path.exists(self.filename) and not force:\n",
    "            self.model.load_model(self.filename)\n",
    "            return self.model\n",
    "        \n",
    "        return self.train(train_dl, **kwargs)\n",
    "\n",
    "finetuned_t5_small = Trainer(LightningT5('t5-small', Tokenizer('t5-small')), 2, 'finetuned_t5small').train_or_load_pretrained(train_dl)"
   ]
  },
  {
   "cell_type": "markdown",
   "id": "175db567",
   "metadata": {},
   "source": [
    "`Benchmark` class. It'll run the passed in model in the specified dataloader, sum the inference times from each example and calculate the accuracy for the whole dataset, all in the same loop. "
   ]
  },
  {
   "cell_type": "code",
   "execution_count": 152,
   "id": "6e5a34ee",
   "metadata": {},
   "outputs": [],
   "source": [
    "import time\n",
    "import pickle\n",
    "from contextlib import contextmanager\n",
    "\n",
    "gpu = torch.device('cuda:0')\n",
    "cpu = torch.device('cpu')\n",
    "\n",
    "class Stopwatch:\n",
    "    def __init__(self):\n",
    "        self.reset()\n",
    "        \n",
    "    @contextmanager    \n",
    "    def measure(self):\n",
    "        start = time.perf_counter()\n",
    "        yield\n",
    "        stop = time.perf_counter()\n",
    "        self.__times.append(stop - start)\n",
    "        \n",
    "    def total(self):\n",
    "        return sum(self.__times)\n",
    "    \n",
    "    def reset(self):\n",
    "        self.__times = []\n",
    "        \n",
    "class Benchmark:\n",
    "    def __init__(self, test_dl, model, filename):\n",
    "        self.test_dl = test_dl\n",
    "        self.model = model\n",
    "        self.results = None\n",
    "        self.filename = filename\n",
    "    \n",
    "    @property    \n",
    "    def tokenizer(self):\n",
    "        return self.model.tokenizer\n",
    "        \n",
    "    def save_results(self):\n",
    "        with open(self.filename, 'wb') as f:\n",
    "            pickle.dump(self.results, f)\n",
    "            \n",
    "    def load_results(self):\n",
    "        with open(self.filename, 'rb') as f:\n",
    "            self.results = pickle.load(f)\n",
    "            \n",
    "    def run_or_load_results(self, force=False, *args, **kwargs):\n",
    "        if not os.path.exists(self.filename) or force:\n",
    "            self.run(*args, **kwargs)\n",
    "            self.save_results()\n",
    "        else:\n",
    "            self.load_results()\n",
    "        return self.results\n",
    "           \n",
    "    def run(self, max_iters=None, device=gpu):\n",
    "        s = Stopwatch()\n",
    "        n_iter = 0\n",
    "        accuracy = 0\n",
    "        \n",
    "        self.model.to(device)\n",
    "        \n",
    "        for input_ids, _, label, _ in tqdm.tqdm(self.test_dl):\n",
    "            if max_iters is not None and n_iter == max_iters:\n",
    "                break\n",
    "            \n",
    "            output = None\n",
    "            \n",
    "            with s.measure():\n",
    "                output = self.model(input_ids.to(device))\n",
    "                \n",
    "            pred = output.to(cpu).squeeze()\n",
    "            label = label.squeeze()\n",
    "            \n",
    "            pred = tokenizer.decode(pred, skip_special_tokens=True)\n",
    "            label = tokenizer.decode(label, skip_special_tokens=True)\n",
    "            \n",
    "            if pred == label:\n",
    "                accuracy += 1\n",
    "                \n",
    "            n_iter += 1\n",
    "            \n",
    "        self.results = {\n",
    "            'accuracy': accuracy / (max_iters if max_iters is not None else len(self.test_dl)),\n",
    "            'time': s.total()\n",
    "        }\n",
    "        \n",
    "        self.model.to(cpu)"
   ]
  },
  {
   "cell_type": "markdown",
   "id": "2921656a",
   "metadata": {},
   "source": [
    "Results for the baseline model:"
   ]
  },
  {
   "cell_type": "code",
   "execution_count": 153,
   "id": "05b997b0",
   "metadata": {},
   "outputs": [
    {
     "data": {
      "text/plain": [
       "{'accuracy': 0.91684, 'time': 652.6982833680067}"
      ]
     },
     "execution_count": 153,
     "metadata": {},
     "output_type": "execute_result"
    }
   ],
   "source": [
    "finetuned_t5_small_benchmark = Benchmark(test_dl, finetuned_t5_small, 'finetuned_t5small_results.pickle')\n",
    "finetuned_t5_small_benchmark.run_or_load_results()\n",
    "finetuned_t5_small_benchmark.results"
   ]
  },
  {
   "cell_type": "markdown",
   "id": "5bf1b09d",
   "metadata": {},
   "source": [
    "Results for the `t5-base` model (that'll be used as teacher):"
   ]
  },
  {
   "cell_type": "code",
   "execution_count": 154,
   "id": "11231cd1",
   "metadata": {},
   "outputs": [],
   "source": [
    "finetuned_t5_base = LightningT5('mrm8488/t5-base-finetuned-imdb-sentiment', Tokenizer('mrm8488/t5-base-finetuned-imdb-sentiment'))"
   ]
  },
  {
   "cell_type": "code",
   "execution_count": 155,
   "id": "6745dfa1",
   "metadata": {},
   "outputs": [
    {
     "data": {
      "text/plain": [
       "{'accuracy': 0.94892, 'time': 1511.636808633115}"
      ]
     },
     "execution_count": 155,
     "metadata": {},
     "output_type": "execute_result"
    }
   ],
   "source": [
    "finetuned_t5_base_benchmark = Benchmark(test_dl, finetuned_t5_base, 'finetuned_t5base_results.pickle')\n",
    "finetuned_t5_base_benchmark.run_or_load_results()\n",
    "finetuned_t5_base_benchmark.results"
   ]
  },
  {
   "cell_type": "markdown",
   "id": "8c7fc4b5",
   "metadata": {},
   "source": [
    "## Experiments"
   ]
  },
  {
   "cell_type": "markdown",
   "id": "9f9e6def",
   "metadata": {},
   "source": [
    "First we define our distillation loss: "
   ]
  },
  {
   "cell_type": "code",
   "execution_count": 156,
   "id": "d71b72c3",
   "metadata": {},
   "outputs": [
    {
     "name": "stdout",
     "output_type": "stream",
     "text": [
      "tensor(11.3334, grad_fn=<AddBackward0>)\n"
     ]
    }
   ],
   "source": [
    "from torch.nn import CrossEntropyLoss\n",
    "\n",
    "class DistillationLoss:\n",
    "    def __init__(self, temp=1, alpha=0.5):\n",
    "        self.temp = temp\n",
    "        self.alpha = alpha\n",
    "        self.cel = CrossEntropyLoss()\n",
    "    \n",
    "    def __call__(self, teacher_logits, student_logits, labels):\n",
    "        alpha = self.alpha\n",
    "        t = self.temp\n",
    "        \n",
    "        l1 = -(\n",
    "            (teacher_logits / t).softmax(dim=-1) * (student_logits / t).log_softmax(dim=-1)\n",
    "        ).sum(dim=-1).mean()\n",
    "        \n",
    "        l2 = self.cel(student_logits.view(-1, student_logits.size(-1)), labels.view(-1))\n",
    "        \n",
    "        return alpha * l1 + (1 - alpha) * l2\n",
    "    \n",
    "def test_distillation_loss():\n",
    "    input_ids, attention_mask, labels, decoder_attention_mask = train_ds[0]\n",
    "\n",
    "    output_base = finetuned_t5_base.t5(\n",
    "        input_ids=input_ids.unsqueeze(dim=0), \n",
    "        attention_mask=attention_mask.unsqueeze(dim=0), \n",
    "        labels=labels.unsqueeze(dim=0), \n",
    "        decoder_attention_mask=decoder_attention_mask.unsqueeze(dim=0)\n",
    "    )\n",
    "\n",
    "    output_small_untrained = T5ForConditionalGeneration.from_pretrained('t5-small')(\n",
    "        input_ids=input_ids.unsqueeze(dim=0), \n",
    "        attention_mask=attention_mask.unsqueeze(dim=0), \n",
    "        labels=labels.unsqueeze(dim=0), \n",
    "        decoder_attention_mask=decoder_attention_mask.unsqueeze(dim=0)\n",
    "    )\n",
    "    \n",
    "    criterion = DistillationLoss(temp=1, alpha=0.5)\n",
    "    loss = criterion(output_base.logits, output_small_untrained.logits, labels)\n",
    "    \n",
    "    print(loss)\n",
    "    \n",
    "test_distillation_loss()"
   ]
  },
  {
   "cell_type": "markdown",
   "id": "4d4c3240",
   "metadata": {},
   "source": [
    "Then we extend our `pytorch_lightning` model class to use that loss:"
   ]
  },
  {
   "cell_type": "code",
   "execution_count": 157,
   "id": "3bc5283b",
   "metadata": {},
   "outputs": [],
   "source": [
    "class LightningDistilledT5(LightningT5):\n",
    "    def __init__(self, student_model_name, tokenizer, teacher_model, freeze_teacher=True, alpha=0, temp=1):\n",
    "        super().__init__(student_model_name, tokenizer)\n",
    "        self.teacher_model = teacher_model\n",
    "        \n",
    "        if freeze_teacher:\n",
    "            for p in self.teacher_model.parameters():\n",
    "                p.requires_grad = False\n",
    "                \n",
    "        self.criterion = DistillationLoss(temp=temp, alpha=alpha)  \n",
    "    \n",
    "    def _step(self, batch):\n",
    "        input_ids, attention_mask, labels, decoder_attention_mask = batch\n",
    "        labels[labels[:] == self.tokenizer.pad_token_id] = -100\n",
    "        \n",
    "        student_output = self.t5(\n",
    "            input_ids=input_ids,\n",
    "            attention_mask=attention_mask,\n",
    "            decoder_input_ids=self.t5._shift_right(labels),\n",
    "            decoder_attention_mask=decoder_attention_mask\n",
    "        )\n",
    "        \n",
    "        teacher_output = self.teacher_model(\n",
    "            input_ids=input_ids,\n",
    "            attention_mask=attention_mask,\n",
    "            decoder_input_ids=self.t5._shift_right(labels),\n",
    "            decoder_attention_mask=decoder_attention_mask\n",
    "        )\n",
    "        \n",
    "        student_logits = student_output.logits\n",
    "        teacher_logits = teacher_output.logits\n",
    "        \n",
    "        return self.criterion(teacher_logits, student_logits, labels)"
   ]
  },
  {
   "cell_type": "markdown",
   "id": "9ee4e3af",
   "metadata": {},
   "source": [
    "### Temperature=1"
   ]
  },
  {
   "cell_type": "markdown",
   "id": "3d72f9a5",
   "metadata": {},
   "source": [
    "`alpha=0.5`"
   ]
  },
  {
   "cell_type": "code",
   "execution_count": 162,
   "id": "e168e9f1",
   "metadata": {},
   "outputs": [],
   "source": [
    "distilled_t5_small_1_0 = Trainer(\n",
    "    LightningDistilledT5(\n",
    "        't5-small', \n",
    "        Tokenizer('t5-small'), \n",
    "        finetuned_t5_base.t5,\n",
    "        temp=1,\n",
    "        alpha=0.5\n",
    "    ), \n",
    "    2, \n",
    "    'distillation_1_0'\n",
    ").train_or_load_pretrained(train_dl)"
   ]
  },
  {
   "cell_type": "code",
   "execution_count": 163,
   "id": "79acbca3",
   "metadata": {},
   "outputs": [
    {
     "data": {
      "text/plain": [
       "{'accuracy': 0.91988, 'time': 686.3376589473046}"
      ]
     },
     "execution_count": 163,
     "metadata": {},
     "output_type": "execute_result"
    }
   ],
   "source": [
    "distilled_t5_small_1_0_bench = Benchmark(test_dl, distilled_t5_small_1_0, 'distillation_1_0_results.pickle') # 1_0\n",
    "distilled_t5_small_1_0_bench.run_or_load_results()\n",
    "distilled_t5_small_1_0_bench.results"
   ]
  },
  {
   "cell_type": "markdown",
   "id": "51d4bcf5",
   "metadata": {},
   "source": [
    "`alpha=1`"
   ]
  },
  {
   "cell_type": "code",
   "execution_count": 164,
   "id": "b849cd92",
   "metadata": {},
   "outputs": [],
   "source": [
    "distilled_t5_small_1_1 = Trainer(\n",
    "    LightningDistilledT5(\n",
    "        't5-small', \n",
    "        Tokenizer('t5-small'), \n",
    "        finetuned_t5_base.t5,\n",
    "        temp=1,\n",
    "        alpha=1\n",
    "    ), \n",
    "    2, \n",
    "    'distillation_1_1'\n",
    ").train_or_load_pretrained(train_dl)"
   ]
  },
  {
   "cell_type": "code",
   "execution_count": 165,
   "id": "eb7ac94b",
   "metadata": {},
   "outputs": [
    {
     "data": {
      "text/plain": [
       "{'accuracy': 0.89728, 'time': 679.6916478114435}"
      ]
     },
     "execution_count": 165,
     "metadata": {},
     "output_type": "execute_result"
    }
   ],
   "source": [
    "distilled_t5_small_1_1_bench = Benchmark(test_dl, distilled_t5_small_1_1, 'distillation_1_1_results.pickle')\n",
    "distilled_t5_small_1_1_bench.run_or_load_results()\n",
    "distilled_t5_small_1_1_bench.results"
   ]
  },
  {
   "cell_type": "markdown",
   "id": "bd578f78",
   "metadata": {},
   "source": [
    "### Temperature=2"
   ]
  },
  {
   "cell_type": "markdown",
   "id": "8a7a8d28",
   "metadata": {},
   "source": [
    "`alpha=0.5`"
   ]
  },
  {
   "cell_type": "code",
   "execution_count": 166,
   "id": "be9cf8a1",
   "metadata": {},
   "outputs": [],
   "source": [
    "distilled_t5_small_2_0 = Trainer(\n",
    "    LightningDistilledT5(\n",
    "        't5-small', \n",
    "        Tokenizer('t5-small'), \n",
    "        finetuned_t5_base.t5,\n",
    "        alpha=0.5,\n",
    "        temp=2\n",
    "    ), \n",
    "    2, \n",
    "    'distillation_2_0'\n",
    ").train_or_load_pretrained(train_dl)"
   ]
  },
  {
   "cell_type": "code",
   "execution_count": 167,
   "id": "3ca58ea2",
   "metadata": {},
   "outputs": [
    {
     "data": {
      "text/plain": [
       "{'accuracy': 0.91928, 'time': 664.636073136935}"
      ]
     },
     "execution_count": 167,
     "metadata": {},
     "output_type": "execute_result"
    }
   ],
   "source": [
    "distilled_t5_small_2_0_bench = Benchmark(test_dl, distilled_t5_small_2_0, 'distillation_2_0_results.pickle')\n",
    "distilled_t5_small_2_0_bench.run_or_load_results()\n",
    "distilled_t5_small_2_0_bench.results"
   ]
  },
  {
   "cell_type": "markdown",
   "id": "d4213195",
   "metadata": {},
   "source": [
    "`alpha=1`"
   ]
  },
  {
   "cell_type": "code",
   "execution_count": 168,
   "id": "52f1a5b5",
   "metadata": {},
   "outputs": [],
   "source": [
    "distilled_t5_small_2_1 = Trainer(\n",
    "    LightningDistilledT5(\n",
    "        't5-small', \n",
    "        Tokenizer('t5-small'), \n",
    "        finetuned_t5_base.t5,\n",
    "        alpha=1,\n",
    "        temp=2\n",
    "    ), \n",
    "    2, \n",
    "    'distillation_2_1'\n",
    ").train_or_load_pretrained(train_dl)"
   ]
  },
  {
   "cell_type": "code",
   "execution_count": 169,
   "id": "2ddeeae5",
   "metadata": {},
   "outputs": [
    {
     "data": {
      "text/plain": [
       "{'accuracy': 0.88392, 'time': 661.773972802046}"
      ]
     },
     "execution_count": 169,
     "metadata": {},
     "output_type": "execute_result"
    }
   ],
   "source": [
    "distilled_t5_small_2_1_bench = Benchmark(test_dl, distilled_t5_small_2_1, 'distillation_2_1_results.pickle')\n",
    "distilled_t5_small_2_1_bench.run_or_load_results()\n",
    "distilled_t5_small_2_1_bench.results"
   ]
  },
  {
   "cell_type": "markdown",
   "id": "5e5671e7",
   "metadata": {},
   "source": [
    "### Temperature=3"
   ]
  },
  {
   "cell_type": "markdown",
   "id": "ecf40006",
   "metadata": {},
   "source": [
    "`alpha=0.5`"
   ]
  },
  {
   "cell_type": "code",
   "execution_count": 170,
   "id": "4be05601",
   "metadata": {},
   "outputs": [],
   "source": [
    "distilled_t5_small_3_0 = Trainer(\n",
    "    LightningDistilledT5(\n",
    "        't5-small', \n",
    "        Tokenizer('t5-small'), \n",
    "        finetuned_t5_base.t5,\n",
    "        temp=3,\n",
    "        alpha=0.5\n",
    "    ), \n",
    "    2, \n",
    "    'distillation_3_0'\n",
    ").train_or_load_pretrained(train_dl)"
   ]
  },
  {
   "cell_type": "code",
   "execution_count": 171,
   "id": "a411f695",
   "metadata": {},
   "outputs": [
    {
     "data": {
      "text/plain": [
       "{'accuracy': 0.9244, 'time': 634.1156228439359}"
      ]
     },
     "execution_count": 171,
     "metadata": {},
     "output_type": "execute_result"
    }
   ],
   "source": [
    "distilled_t5_small_3_0_bench = Benchmark(test_dl, distilled_t5_small_3_0, 'distillation_3_0_results.pickle')\n",
    "distilled_t5_small_3_0_bench.run_or_load_results()\n",
    "distilled_t5_small_3_0_bench.results"
   ]
  },
  {
   "cell_type": "markdown",
   "id": "c9a9bd92",
   "metadata": {},
   "source": [
    "`alpha=1`"
   ]
  },
  {
   "cell_type": "code",
   "execution_count": 172,
   "id": "8fd0dbe7",
   "metadata": {},
   "outputs": [],
   "source": [
    "distilled_t5_small_3_1 = Trainer(\n",
    "    LightningDistilledT5(\n",
    "        't5-small', \n",
    "        Tokenizer('t5-small'), \n",
    "        finetuned_t5_base.t5,\n",
    "        temp=3,\n",
    "        alpha=1\n",
    "    ), \n",
    "    2, \n",
    "    'distillation_3_1'\n",
    ").train_or_load_pretrained(train_dl)"
   ]
  },
  {
   "cell_type": "code",
   "execution_count": 173,
   "id": "7694aee3",
   "metadata": {},
   "outputs": [
    {
     "data": {
      "text/plain": [
       "{'accuracy': 0.84372, 'time': 696.22386425492}"
      ]
     },
     "execution_count": 173,
     "metadata": {},
     "output_type": "execute_result"
    }
   ],
   "source": [
    "distilled_t5_small_3_1_bench = Benchmark(test_dl, distilled_t5_small_3_1, 'distillation_3_1_results.pickle')\n",
    "distilled_t5_small_3_1_bench.run_or_load_results()\n",
    "distilled_t5_small_3_1_bench.results"
   ]
  },
  {
   "cell_type": "markdown",
   "id": "b03de8f1",
   "metadata": {},
   "source": [
    "### Temperature=4"
   ]
  },
  {
   "cell_type": "markdown",
   "id": "6c832013",
   "metadata": {},
   "source": [
    "`alpha=0.5`"
   ]
  },
  {
   "cell_type": "code",
   "execution_count": 174,
   "id": "85392dba",
   "metadata": {},
   "outputs": [],
   "source": [
    "distilled_t5_small_4_0 = Trainer(\n",
    "    LightningDistilledT5(\n",
    "        't5-small', \n",
    "        Tokenizer('t5-small'), \n",
    "        finetuned_t5_base.t5,\n",
    "        temp=4,\n",
    "        alpha=0.5\n",
    "    ), \n",
    "    2, \n",
    "    'distillation_4_0'\n",
    ").train_or_load_pretrained(train_dl)"
   ]
  },
  {
   "cell_type": "code",
   "execution_count": 175,
   "id": "4816b1ea",
   "metadata": {},
   "outputs": [
    {
     "data": {
      "text/plain": [
       "{'accuracy': 0.91772, 'time': 705.2374351043836}"
      ]
     },
     "execution_count": 175,
     "metadata": {},
     "output_type": "execute_result"
    }
   ],
   "source": [
    "distilled_t5_small_4_0_bench = Benchmark(test_dl, distilled_t5_small_4_0, 'distillation_4_0_results.pickle')\n",
    "distilled_t5_small_4_0_bench.run_or_load_results()\n",
    "distilled_t5_small_4_0_bench.results"
   ]
  },
  {
   "cell_type": "markdown",
   "id": "b75b82ea",
   "metadata": {},
   "source": [
    "`alpha=1`"
   ]
  },
  {
   "cell_type": "code",
   "execution_count": 176,
   "id": "0d02bb7b",
   "metadata": {},
   "outputs": [],
   "source": [
    "distilled_t5_small_4_1 = Trainer(\n",
    "    LightningDistilledT5(\n",
    "        't5-small', \n",
    "        Tokenizer('t5-small'), \n",
    "        finetuned_t5_base.t5,\n",
    "        temp=4,\n",
    "        alpha=1\n",
    "    ), \n",
    "    2, \n",
    "    'distillation_4_1'\n",
    ").train_or_load_pretrained(train_dl)"
   ]
  },
  {
   "cell_type": "code",
   "execution_count": 177,
   "id": "82828cc9",
   "metadata": {},
   "outputs": [
    {
     "data": {
      "text/plain": [
       "{'accuracy': 0.80136, 'time': 701.600426985533}"
      ]
     },
     "execution_count": 177,
     "metadata": {},
     "output_type": "execute_result"
    }
   ],
   "source": [
    "distilled_t5_small_4_1_bench = Benchmark(test_dl, distilled_t5_small_4_1, 'distillation_4_1_results.pickle')\n",
    "distilled_t5_small_4_1_bench.run_or_load_results()\n",
    "distilled_t5_small_4_1_bench.results"
   ]
  },
  {
   "cell_type": "markdown",
   "id": "4bd92d6e",
   "metadata": {},
   "source": [
    "### Temperature=5"
   ]
  },
  {
   "cell_type": "markdown",
   "id": "e90c021f",
   "metadata": {},
   "source": [
    "`alpha=0.5`"
   ]
  },
  {
   "cell_type": "code",
   "execution_count": 158,
   "id": "8f5a3023",
   "metadata": {},
   "outputs": [],
   "source": [
    "distilled_t5_small_5_0 = Trainer(\n",
    "    LightningDistilledT5(\n",
    "        't5-small', \n",
    "        Tokenizer('t5-small'), \n",
    "        finetuned_t5_base.t5,\n",
    "        alpha=0.5,\n",
    "        temp=5\n",
    "    ), \n",
    "    2, \n",
    "    'distillation_5_0'\n",
    ").train_or_load_pretrained(train_dl)"
   ]
  },
  {
   "cell_type": "code",
   "execution_count": 178,
   "id": "ff5a630d",
   "metadata": {},
   "outputs": [
    {
     "data": {
      "text/plain": [
       "{'accuracy': 0.91696, 'time': 654.6962048942587}"
      ]
     },
     "execution_count": 178,
     "metadata": {},
     "output_type": "execute_result"
    }
   ],
   "source": [
    "distilled_t5_small_5_0_bench = Benchmark(test_dl, distilled_t5_small_5_0, 'distillation_5_0_results.pickle')\n",
    "distilled_t5_small_5_0_bench.run_or_load_results()\n",
    "distilled_t5_small_5_0_bench.results"
   ]
  },
  {
   "cell_type": "markdown",
   "id": "98149d32",
   "metadata": {},
   "source": [
    "`alpha=1`"
   ]
  },
  {
   "cell_type": "code",
   "execution_count": 160,
   "id": "c398bfb7",
   "metadata": {},
   "outputs": [],
   "source": [
    "distilled_t5_small_5_1 = Trainer(\n",
    "    LightningDistilledT5(\n",
    "        't5-small', \n",
    "        Tokenizer('t5-small'), \n",
    "        finetuned_t5_base.t5,\n",
    "        alpha=1,\n",
    "        temp=5\n",
    "    ), \n",
    "    2, \n",
    "    'distillation_5_1'\n",
    ").train_or_load_pretrained(train_dl)"
   ]
  },
  {
   "cell_type": "code",
   "execution_count": 179,
   "id": "095e358d",
   "metadata": {},
   "outputs": [
    {
     "data": {
      "text/plain": [
       "{'accuracy': 0.7858, 'time': 658.2624420226493}"
      ]
     },
     "execution_count": 179,
     "metadata": {},
     "output_type": "execute_result"
    }
   ],
   "source": [
    "distilled_t5_small_5_1_bench = Benchmark(test_dl, distilled_t5_small_5_1, 'distillation_5_1_results.pickle')\n",
    "distilled_t5_small_5_1_bench.run_or_load_results()\n",
    "distilled_t5_small_5_1_bench.results"
   ]
  },
  {
   "cell_type": "markdown",
   "id": "dcf87f96",
   "metadata": {},
   "source": [
    "## Results"
   ]
  },
  {
   "cell_type": "code",
   "execution_count": 223,
   "id": "24a5a73a",
   "metadata": {},
   "outputs": [
    {
     "name": "stdout",
     "output_type": "stream",
     "text": [
      "Accuracies for alpha=0.5\n",
      "------------------------\n",
      "Temperature=1 | 0.91988\n",
      "Temperature=2 | 0.91928\n",
      "Temperature=3 | 0.9244\n",
      "Temperature=4 | 0.91772\n",
      "Temperature=5 | 0.91696\n",
      "\n",
      "Accuracies for alpha=1\n",
      "------------------------\n",
      "Temperature=1 | 0.89728\n",
      "Temperature=2 | 0.88392\n",
      "Temperature=3 | 0.84372\n",
      "Temperature=4 | 0.80136\n",
      "Temperature=5 | 0.7858\n",
      "\n",
      "Baseline Accuracy: 0.91684\n",
      "Teacher Accuracy: 0.94892\n"
     ]
    },
    {
     "data": {
      "image/png": "[encoded data removed]",
      "text/plain": [
       "<Figure size 864x288 with 2 Axes>"
      ]
     },
     "metadata": {
      "needs_background": "light"
     },
     "output_type": "display_data"
    }
   ],
   "source": [
    "import matplotlib.pyplot as plt\n",
    "\n",
    "results_0 = [\n",
    "    distilled_t5_small_1_0_bench.results,\n",
    "    distilled_t5_small_2_0_bench.results,\n",
    "    distilled_t5_small_3_0_bench.results,\n",
    "    distilled_t5_small_4_0_bench.results,\n",
    "    distilled_t5_small_5_0_bench.results,\n",
    "]\n",
    "\n",
    "results_1 = [\n",
    "    distilled_t5_small_1_1_bench.results,\n",
    "    distilled_t5_small_2_1_bench.results,\n",
    "    distilled_t5_small_3_1_bench.results,\n",
    "    distilled_t5_small_4_1_bench.results,\n",
    "    distilled_t5_small_5_1_bench.results,\n",
    "]\n",
    "\n",
    "\n",
    "accuracy_0 = [r['accuracy'] for r in results_0]\n",
    "accuracy_1 = [r['accuracy'] for r in results_1]\n",
    "\n",
    "print('Accuracies for alpha=0.5')\n",
    "print('------------------------')\n",
    "\n",
    "for t, a in enumerate(accuracy_0):\n",
    "    print(f'Temperature={t + 1} | {a}')\n",
    "    \n",
    "print('\\nAccuracies for alpha=1')\n",
    "print('------------------------')\n",
    "\n",
    "for t, a in enumerate(accuracy_1):\n",
    "    print(f'Temperature={t + 1} | {a}')\n",
    "\n",
    "baseline_accuracy = finetuned_t5_small_benchmark.results['accuracy']\n",
    "teacher_accuracy = finetuned_t5_base_benchmark.results['accuracy']\n",
    "\n",
    "print(f'\\nBaseline Accuracy: {baseline_accuracy}')\n",
    "print(f'Teacher Accuracy: {teacher_accuracy}')\n",
    "\n",
    "fig, ax = plt.subplots(1,2)\n",
    "fig.set_figwidth(12)\n",
    "\n",
    "ax[0].set_title('alpha=0.5')\n",
    "ax[1].set_title('alpha=1')\n",
    "\n",
    "ax[0].scatter(torch.arange(1, len(results_0) + 1), accuracy_0)\n",
    "ax[0].plot(torch.arange(1, len(results_0) + 1), accuracy_0)\n",
    "ax[0].plot((0, 5), (baseline_accuracy, baseline_accuracy), 'r--', label='baseline')\n",
    "ax[0].plot((0, 5), (teacher_accuracy, teacher_accuracy), 'g--', label='teacher')\n",
    "ax[0].set_xlabel('Temperature')\n",
    "ax[0].set_ylabel('Accuracy')\n",
    "ax[0].legend()\n",
    "ax[0].set_aspect('auto')\n",
    "\n",
    "ax[1].scatter(torch.arange(1, len(results_0) + 1), accuracy_1)\n",
    "ax[1].plot(torch.arange(1, len(results_0) + 1), accuracy_1)\n",
    "ax[1].plot((0, 5), (baseline_accuracy, baseline_accuracy), 'r--', label='baseline')\n",
    "ax[1].plot((0, 5), (teacher_accuracy, teacher_accuracy), 'g--', label='teacher')\n",
    "ax[1].set_xlabel('Temperature')\n",
    "ax[1].set_ylabel('Accuracy')\n",
    "ax[1].legend()\n",
    "ax[1].set_aspect('auto')"
   ]
  }
 ],
 "metadata": {
  "environment": {
   "name": "pytorch-gpu.1-9.m74",
   "type": "gcloud",
   "uri": "gcr.io/deeplearning-platform-release/pytorch-gpu.1-9:m74"
  },
  "kernelspec": {
   "display_name": "Python 3",
   "language": "python",
   "name": "python3"
  },
  "language_info": {
   "codemirror_mode": {
    "name": "ipython",
    "version": 3
   },
   "file_extension": ".py",
   "mimetype": "text/x-python",
   "name": "python",
   "nbconvert_exporter": "python",
   "pygments_lexer": "ipython3",
   "version": "3.7.10"
  }
 },
 "nbformat": 4,
 "nbformat_minor": 5
}
